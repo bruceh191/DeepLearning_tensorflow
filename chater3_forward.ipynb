{
 "cells": [
  {
   "cell_type": "code",
   "execution_count": 1,
   "metadata": {},
   "outputs": [],
   "source": [
    "import matplotlib\n",
    "from matplotlib import pyplot as plt\n",
    "import numpy as np\n",
    "import pandas as pd"
   ]
  },
  {
   "cell_type": "code",
   "execution_count": 2,
   "metadata": {},
   "outputs": [],
   "source": [
    "matplotlib.rcParams['font.size'] = 20\n",
    "matplotlib.rcParams['figure.titlesize'] = 20\n",
    "matplotlib.rcParams['figure.figsize'] = [9,7]\n",
    "matplotlib.rcParams['font.family'] = ['STKaiTi']\n",
    "matplotlib.rcParams['axes.unicode_minus'] = False"
   ]
  },
  {
   "cell_type": "code",
   "execution_count": 3,
   "metadata": {},
   "outputs": [],
   "source": [
    "import tensorflow as tf\n",
    "from tensorflow import keras\n",
    "from tensorflow.keras import datasets\n",
    "import os"
   ]
  },
  {
   "cell_type": "code",
   "execution_count": 4,
   "metadata": {},
   "outputs": [],
   "source": [
    "os.environ['TF_CPP_MIN_LOG_LEVEL'] = '2'"
   ]
  },
  {
   "cell_type": "code",
   "execution_count": 5,
   "metadata": {},
   "outputs": [],
   "source": [
    "mnistx = np.load('../data/mnist.npz')\n",
    "x,y = mnistx['x_train'],mnistx['y_train']\n",
    "x_val,y_val = mnistx['x_test'],mnistx['y_test']"
   ]
  },
  {
   "cell_type": "code",
   "execution_count": 6,
   "metadata": {},
   "outputs": [],
   "source": [
    "x = tf.convert_to_tensor(x,dtype=tf.float32)/255.\n",
    "y = tf.convert_to_tensor(y,dtype=tf.int32)"
   ]
  },
  {
   "cell_type": "code",
   "execution_count": 7,
   "metadata": {},
   "outputs": [
    {
     "name": "stdout",
     "output_type": "stream",
     "text": [
      "(60000, 28, 28) (60000,) <dtype: 'float32'> <dtype: 'int32'>\n",
      "tf.Tensor(0.0, shape=(), dtype=float32) tf.Tensor(1.0, shape=(), dtype=float32)\n",
      "tf.Tensor(0, shape=(), dtype=int32) tf.Tensor(9, shape=(), dtype=int32)\n"
     ]
    }
   ],
   "source": [
    "print(x.shape,y.shape,x.dtype,y.dtype)\n",
    "print(tf.reduce_min(x),tf.reduce_max(x))\n",
    "print(tf.reduce_min(y),tf.reduce_max(y))"
   ]
  },
  {
   "cell_type": "code",
   "execution_count": 8,
   "metadata": {},
   "outputs": [
    {
     "name": "stdout",
     "output_type": "stream",
     "text": [
      "batch: (128, 28, 28) (128,)\n"
     ]
    }
   ],
   "source": [
    "train_db = tf.data.Dataset.from_tensor_slices((x,y)).batch(128)\n",
    "train_iter = iter(train_db)\n",
    "sample = next(train_iter)\n",
    "print('batch:',sample[0].shape,sample[1].shape)"
   ]
  },
  {
   "cell_type": "code",
   "execution_count": 9,
   "metadata": {},
   "outputs": [],
   "source": [
    "w1 = tf.Variable(tf.random.truncated_normal([784, 256], stddev=0.1))\n",
    "b1 = tf.Variable(tf.zeros([256]))\n",
    "w2 = tf.Variable(tf.random.truncated_normal([256, 128], stddev=0.1))\n",
    "b2 = tf.Variable(tf.zeros([128]))\n",
    "w3 = tf.Variable(tf.random.truncated_normal([128, 10], stddev=0.1))\n",
    "b3 = tf.Variable(tf.zeros([10]))"
   ]
  },
  {
   "cell_type": "code",
   "execution_count": 10,
   "metadata": {},
   "outputs": [],
   "source": [
    "lr = 1e-3"
   ]
  },
  {
   "cell_type": "code",
   "execution_count": 11,
   "metadata": {},
   "outputs": [
    {
     "name": "stdout",
     "output_type": "stream",
     "text": [
      "0 0 loss: 0.5338054895401001\n",
      "0 100 loss: 0.20022039115428925\n",
      "0 200 loss: 0.17863860726356506\n",
      "0 300 loss: 0.1656949818134308\n",
      "0 400 loss: 0.15569829940795898\n",
      "1 0 loss: 0.15973229706287384\n",
      "1 100 loss: 0.15003423392772675\n",
      "1 200 loss: 0.14963778853416443\n",
      "1 300 loss: 0.1412786990404129\n",
      "1 400 loss: 0.1332014799118042\n",
      "2 0 loss: 0.13784173130989075\n",
      "2 100 loss: 0.13216860592365265\n",
      "2 200 loss: 0.13272784650325775\n",
      "2 300 loss: 0.12661023437976837\n",
      "2 400 loss: 0.11849983036518097\n",
      "3 0 loss: 0.12316127866506577\n",
      "3 100 loss: 0.11991266906261444\n",
      "3 200 loss: 0.12093563377857208\n",
      "3 300 loss: 0.116185262799263\n",
      "3 400 loss: 0.10822226107120514\n",
      "4 0 loss: 0.11246740818023682\n",
      "4 100 loss: 0.11102529615163803\n",
      "4 200 loss: 0.11211087554693222\n",
      "4 300 loss: 0.10839853435754776\n",
      "4 400 loss: 0.10053110122680664\n",
      "5 0 loss: 0.10446246713399887\n",
      "5 100 loss: 0.10428972542285919\n",
      "5 200 loss: 0.10523927211761475\n",
      "5 300 loss: 0.10230372846126556\n",
      "5 400 loss: 0.0946120172739029\n",
      "6 0 loss: 0.0982014536857605\n",
      "6 100 loss: 0.09901003539562225\n",
      "6 200 loss: 0.09975922107696533\n",
      "6 300 loss: 0.0973970964550972\n",
      "6 400 loss: 0.08993078768253326\n",
      "7 0 loss: 0.09309253096580505\n",
      "7 100 loss: 0.09468720108270645\n",
      "7 200 loss: 0.09528124332427979\n",
      "7 300 loss: 0.09332674741744995\n",
      "7 400 loss: 0.08612550795078278\n",
      "8 0 loss: 0.08887112140655518\n",
      "8 100 loss: 0.09103074669837952\n",
      "8 200 loss: 0.09147194772958755\n",
      "8 300 loss: 0.08987674117088318\n",
      "8 400 loss: 0.08293960988521576\n",
      "9 0 loss: 0.08533832430839539\n",
      "9 100 loss: 0.0879114642739296\n",
      "9 200 loss: 0.08822575956583023\n",
      "9 300 loss: 0.08686564862728119\n",
      "9 400 loss: 0.08022961020469666\n",
      "10 0 loss: 0.08229607343673706\n",
      "10 100 loss: 0.08522361516952515\n",
      "10 200 loss: 0.08543650805950165\n",
      "10 300 loss: 0.08421401679515839\n",
      "10 400 loss: 0.07788214832544327\n",
      "11 0 loss: 0.07966174185276031\n",
      "11 100 loss: 0.08286963403224945\n",
      "11 200 loss: 0.08297810703516006\n",
      "11 300 loss: 0.08187788724899292\n",
      "11 400 loss: 0.07584282010793686\n",
      "12 0 loss: 0.07735142856836319\n",
      "12 100 loss: 0.08079419285058975\n",
      "12 200 loss: 0.08079473674297333\n",
      "12 300 loss: 0.07979583740234375\n",
      "12 400 loss: 0.07402954995632172\n",
      "13 0 loss: 0.075302854180336\n",
      "13 100 loss: 0.07893502712249756\n",
      "13 200 loss: 0.07882275432348251\n",
      "13 300 loss: 0.0779222771525383\n",
      "13 400 loss: 0.07239852845668793\n",
      "14 0 loss: 0.07349050045013428\n",
      "14 100 loss: 0.07727118581533432\n",
      "14 200 loss: 0.07702548801898956\n",
      "14 300 loss: 0.0762181356549263\n",
      "14 400 loss: 0.07092665135860443\n",
      "15 0 loss: 0.07184912264347076\n",
      "15 100 loss: 0.07576658576726913\n",
      "15 200 loss: 0.0753694400191307\n",
      "15 300 loss: 0.07465172559022903\n",
      "15 400 loss: 0.0695875734090805\n",
      "16 0 loss: 0.07033570110797882\n",
      "16 100 loss: 0.07438884675502777\n",
      "16 200 loss: 0.07385163009166718\n",
      "16 300 loss: 0.07321623712778091\n",
      "16 400 loss: 0.06835565716028214\n",
      "17 0 loss: 0.06894364953041077\n",
      "17 100 loss: 0.07311893999576569\n",
      "17 200 loss: 0.07245747745037079\n",
      "17 300 loss: 0.07188665121793747\n",
      "17 400 loss: 0.06722274422645569\n",
      "18 0 loss: 0.06766240298748016\n",
      "18 100 loss: 0.0719357579946518\n",
      "18 200 loss: 0.07116812467575073\n",
      "18 300 loss: 0.07065345346927643\n",
      "18 400 loss: 0.06617613136768341\n",
      "19 0 loss: 0.06647820770740509\n",
      "19 100 loss: 0.07082827389240265\n",
      "19 200 loss: 0.06997565925121307\n",
      "19 300 loss: 0.06949899345636368\n",
      "19 400 loss: 0.06520605087280273\n"
     ]
    }
   ],
   "source": [
    "losses = []\n",
    "for epoch in range(20): # iterate db for 10\n",
    "    for step, (x, y) in enumerate(train_db): # for every batch\n",
    "        # x:[128, 28, 28]\n",
    "        # y: [128]\n",
    "\n",
    "        # [b, 28, 28] => [b, 28*28]\n",
    "        x = tf.reshape(x, [-1, 28*28])\n",
    "\n",
    "        with tf.GradientTape() as tape: # tf.Variable\n",
    "            # x: [b, 28*28]\n",
    "            # h1 = x@w1 + b1\n",
    "            # [b, 784]@[784, 256] + [256] => [b, 256] + [256] => [b, 256] + [b, 256]\n",
    "            h1 = x@w1 + tf.broadcast_to(b1, [x.shape[0], 256])\n",
    "            h1 = tf.nn.relu(h1)\n",
    "            # [b, 256] => [b, 128]\n",
    "            h2 = h1@w2 + b2\n",
    "            h2 = tf.nn.relu(h2)\n",
    "            # [b, 128] => [b, 10]\n",
    "            out = h2@w3 + b3\n",
    "\n",
    "            # compute loss\n",
    "            # out: [b, 10]\n",
    "            # y: [b] => [b, 10]\n",
    "            y_onehot = tf.one_hot(y, depth=10)\n",
    "\n",
    "            # mse = mean(sum(y-out)^2)\n",
    "            # [b, 10]\n",
    "            loss = tf.square(y_onehot - out)\n",
    "            # mean: scalar\n",
    "            loss = tf.reduce_mean(loss)\n",
    "\n",
    "        # compute gradients\n",
    "        grads = tape.gradient(loss, [w1, b1, w2, b2, w3, b3])\n",
    "        # print(grads)\n",
    "        # w1 = w1 - lr * w1_grad\n",
    "        w1.assign_sub(lr * grads[0])\n",
    "        b1.assign_sub(lr * grads[1])\n",
    "        w2.assign_sub(lr * grads[2])\n",
    "        b2.assign_sub(lr * grads[3])\n",
    "        w3.assign_sub(lr * grads[4])\n",
    "        b3.assign_sub(lr * grads[5])\n",
    "\n",
    "\n",
    "        if step % 100 == 0:\n",
    "            print(epoch, step, 'loss:', float(loss))\n",
    "\n",
    "    losses.append(float(loss))"
   ]
  },
  {
   "cell_type": "code",
   "execution_count": 12,
   "metadata": {},
   "outputs": [
    {
     "data": {
      "image/png": "[encoded data removed]",
      "text/plain": [
       "<Figure size 648x504 with 1 Axes>"
      ]
     },
     "metadata": {
      "needs_background": "light"
     },
     "output_type": "display_data"
    }
   ],
   "source": [
    "plt.figure()\n",
    "plt.plot(losses, color='C0', marker='s', label='训练')\n",
    "plt.xlabel('Epoch')\n",
    "plt.legend()\n",
    "plt.ylabel('MSE')\n",
    "plt.savefig('forward.svg')"
   ]
  },
  {
   "cell_type": "code",
   "execution_count": null,
   "metadata": {},
   "outputs": [],
   "source": []
  }
 ],
 "metadata": {
  "kernelspec": {
   "display_name": "Python 3",
   "language": "python",
   "name": "python3"
  },
  "language_info": {
   "codemirror_mode": {
    "name": "ipython",
    "version": 3
   },
   "file_extension": ".py",
   "mimetype": "text/x-python",
   "name": "python",
   "nbconvert_exporter": "python",
   "pygments_lexer": "ipython3",
   "version": "3.7.4"
  }
 },
 "nbformat": 4,
 "nbformat_minor": 2
}
